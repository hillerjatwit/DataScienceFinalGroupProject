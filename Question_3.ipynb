{
  "nbformat": 4,
  "nbformat_minor": 0,
  "metadata": {
    "colab": {
      "provenance": []
    },
    "kernelspec": {
      "name": "python3",
      "display_name": "Python 3"
    },
    "language_info": {
      "name": "python"
    }
  },
  "cells": [
    {
      "cell_type": "code",
      "source": [
        "# Imports\n",
        "import pandas as pd\n",
        "import matplotlib.pyplot as plt\n",
        "import seaborn"
      ],
      "metadata": {
        "id": "lVNEWmA3VRQk"
      },
      "execution_count": 12,
      "outputs": []
    },
    {
      "cell_type": "markdown",
      "source": [
        "# Initialize Data"
      ],
      "metadata": {
        "id": "twrdrPd6Vj4Y"
      }
    },
    {
      "cell_type": "code",
      "execution_count": 13,
      "metadata": {
        "id": "Kybxodc3_gIL"
      },
      "outputs": [],
      "source": [
        "# Load Data\n",
        "australian = pd.read_csv('2024-Australian Grand Prix-Race.csv')\n",
        "british = pd.read_csv('2024-British Grand Prix-Race.csv')\n",
        "dutch = pd.read_csv('2024-Dutch Grand Prix-Race.csv')\n",
        "sao = pd.read_csv('2024-São Paulo Grand Prix-Race.csv')"
      ]
    },
    {
      "cell_type": "code",
      "source": [
        "# Organize Data (remove uneeded rows / columns)\n",
        "\n",
        "drivers = ['SAI', 'LEC', 'PIA', 'TSU']\n",
        "\n",
        "# Rows\n",
        "australian = australian[australian.loc[:,'Driver'].isin(drivers)]\n",
        "british = british[british.loc[:,'Driver'].isin(drivers)]\n",
        "dutch = dutch[dutch.loc[:,'Driver'].isin(drivers)]\n",
        "sao = sao[sao.loc[:,'Driver'].isin(drivers)]\n",
        "\n",
        "# Columns\n",
        "australian = australian.loc[:,['Driver', 'Compound','LapTime_in_seconds']]\n",
        "british = british.loc[:,['Driver', 'Compound','LapTime_in_seconds']]\n",
        "dutch = dutch.loc[:,['Driver', 'Compound','LapTime_in_seconds']]\n",
        "sao = sao.loc[:,['Driver', 'Compound','LapTime_in_seconds']]"
      ],
      "metadata": {
        "id": "8xNDWKgoE64n"
      },
      "execution_count": 14,
      "outputs": []
    },
    {
      "cell_type": "code",
      "source": [
        "# Add Race Column\n",
        "australian['Race'] = 'australian'\n",
        "british['Race'] = 'british'\n",
        "dutch['Race'] = 'dutch'\n",
        "sao['Race'] = 'sao'"
      ],
      "metadata": {
        "id": "JXZ6mYXs_nDd"
      },
      "execution_count": 15,
      "outputs": []
    },
    {
      "cell_type": "code",
      "source": [
        "# Clean Data (deal with NaN)\n",
        "\n",
        "# Fill NaN Compounds with the Most Common\n",
        "australian =  australian.fillna(australian.loc[:,'Compound'].mode())\n",
        "british = british.fillna(british.loc[:,'Compound'].mode())\n",
        "dutch = dutch.fillna(dutch.loc[:,'Compound'].mode())\n",
        "sao = sao.fillna(sao.loc[:,'Compound'].mode())\n",
        "\n",
        "# Fill NaN Lap Times with the Mean\n",
        "australian = australian.fillna(australian.loc[:,'LapTime_in_seconds'].mean())\n",
        "british = british.fillna(british.loc[:,'LapTime_in_seconds'].mean())\n",
        "dutch = dutch.fillna(dutch.loc[:,'LapTime_in_seconds'].mean())\n",
        "sao = sao.fillna(sao.loc[:,'LapTime_in_seconds'].mean())"
      ],
      "metadata": {
        "id": "db_hwU3ZDhUF"
      },
      "execution_count": 16,
      "outputs": []
    },
    {
      "cell_type": "code",
      "source": [
        "# Create Merged Dataframe\n",
        "merged = pd.concat([australian, british], axis=0)\n",
        "merged = pd.concat([merged, dutch], axis=0)\n",
        "merged = pd.concat([merged, sao], axis=0)"
      ],
      "metadata": {
        "id": "KSxV96rEVyEB"
      },
      "execution_count": 17,
      "outputs": []
    },
    {
      "cell_type": "markdown",
      "source": [
        "# Visualization - Bar Plot"
      ],
      "metadata": {
        "id": "6EVGiQdiVcNP"
      }
    },
    {
      "cell_type": "code",
      "source": [
        "merged_pallet = {'SOFT': '#d30000', 'MEDIUM': '#ffca3a', 'HARD': '#9c999a', 'INTERMEDIATE': '#00a86b', 'WET': '#008ecc'}\n",
        "barplot_order = ['HARD', 'MEDIUM', 'SOFT', 'INTERMEDIATE', 'WET']\n",
        "\n",
        "fig, ax = plt.subplots(figsize=(12, 5))\n",
        "\n",
        "bar = seaborn.barplot(data=merged, x='Race', y='LapTime_in_seconds', hue='Compound', estimator='mean', errorbar=None, width=0.9,\n",
        "                hue_order=barplot_order, palette=merged_pallet, saturation=1)\n",
        "\n",
        "# Display Values\n",
        "bar.bar_label(ax.containers[0], fontsize=8, fmt='%.2f')\n",
        "bar.bar_label(ax.containers[1], fontsize=8, fmt='%.2f')\n",
        "bar.bar_label(ax.containers[2], fontsize=8, fmt='%.2f')\n",
        "bar.bar_label(ax.containers[3], fontsize=8, fmt='%.2f')\n",
        "bar.bar_label(ax.containers[4], fontsize=8, fmt='%.2f')\n",
        "\n",
        "plt.xlabel('Race')\n",
        "plt.ylabel('Lap Time (Seconds)')\n",
        "plt.title('Average Lap Times by Compound Type for the 4 Races')\n",
        "plt.legend(title='Compound', loc='best', bbox_to_anchor=(1, 0.5))"
      ],
      "metadata": {
        "colab": {
          "base_uri": "https://localhost:8080/",
          "height": 505
        },
        "id": "WLiJQVi_AFvw",
        "outputId": "703d463f-214b-4a4d-cfdc-a8431d49ef6e"
      },
      "execution_count": 18,
      "outputs": [
        {
          "output_type": "execute_result",
          "data": {
            "text/plain": [
              "<matplotlib.legend.Legend at 0x7ddc6e970e90>"
            ]
          },
          "metadata": {},
          "execution_count": 18
        },
        {
          "output_type": "display_data",
          "data": {
            "text/plain": [
              "<Figure size 1200x500 with 1 Axes>"
            ],
            "image/png": "[encoded data removed]"
          },
          "metadata": {}
        }
      ]
    },
    {
      "cell_type": "markdown",
      "source": [
        "# Numerical Analysis"
      ],
      "metadata": {
        "id": "upcW5jk8sPuo"
      }
    },
    {
      "cell_type": "code",
      "source": [
        "merged.groupby('Compound')['LapTime_in_seconds'].count()"
      ],
      "metadata": {
        "colab": {
          "base_uri": "https://localhost:8080/",
          "height": 272
        },
        "id": "lyzwZpJxv4Ek",
        "outputId": "8f1a9421-ac06-4414-e1bd-e8906eda307c"
      },
      "execution_count": 19,
      "outputs": [
        {
          "output_type": "execute_result",
          "data": {
            "text/plain": [
              "Compound\n",
              "HARD            368\n",
              "INTERMEDIATE    294\n",
              "MEDIUM          262\n",
              "SOFT             44\n",
              "WET               4\n",
              "Name: LapTime_in_seconds, dtype: int64"
            ],
            "text/html": [
              "<div>\n",
              "<style scoped>\n",
              "    .dataframe tbody tr th:only-of-type {\n",
              "        vertical-align: middle;\n",
              "    }\n",
              "\n",
              "    .dataframe tbody tr th {\n",
              "        vertical-align: top;\n",
              "    }\n",
              "\n",
              "    .dataframe thead th {\n",
              "        text-align: right;\n",
              "    }\n",
              "</style>\n",
              "<table border=\"1\" class=\"dataframe\">\n",
              "  <thead>\n",
              "    <tr style=\"text-align: right;\">\n",
              "      <th></th>\n",
              "      <th>LapTime_in_seconds</th>\n",
              "    </tr>\n",
              "    <tr>\n",
              "      <th>Compound</th>\n",
              "      <th></th>\n",
              "    </tr>\n",
              "  </thead>\n",
              "  <tbody>\n",
              "    <tr>\n",
              "      <th>HARD</th>\n",
              "      <td>368</td>\n",
              "    </tr>\n",
              "    <tr>\n",
              "      <th>INTERMEDIATE</th>\n",
              "      <td>294</td>\n",
              "    </tr>\n",
              "    <tr>\n",
              "      <th>MEDIUM</th>\n",
              "      <td>262</td>\n",
              "    </tr>\n",
              "    <tr>\n",
              "      <th>SOFT</th>\n",
              "      <td>44</td>\n",
              "    </tr>\n",
              "    <tr>\n",
              "      <th>WET</th>\n",
              "      <td>4</td>\n",
              "    </tr>\n",
              "  </tbody>\n",
              "</table>\n",
              "</div><br><label><b>dtype:</b> int64</label>"
            ]
          },
          "metadata": {},
          "execution_count": 19
        }
      ]
    },
    {
      "cell_type": "code",
      "source": [
        "merged.groupby(['Race','Compound'])['LapTime_in_seconds'].mean()"
      ],
      "metadata": {
        "colab": {
          "base_uri": "https://localhost:8080/",
          "height": 460
        },
        "id": "b583COkwrPSm",
        "outputId": "05db08ad-8bda-4b12-f1cf-04437e143a20"
      },
      "execution_count": 20,
      "outputs": [
        {
          "output_type": "execute_result",
          "data": {
            "text/plain": [
              "Race        Compound    \n",
              "australian  HARD             83.573344\n",
              "            MEDIUM           84.784814\n",
              "british     HARD             92.157182\n",
              "            INTERMEDIATE    104.708365\n",
              "            MEDIUM           93.950123\n",
              "            SOFT             93.296033\n",
              "dutch       HARD             75.842321\n",
              "            MEDIUM           77.084219\n",
              "            SOFT             78.341571\n",
              "sao         INTERMEDIATE     88.673717\n",
              "            WET             111.111640\n",
              "Name: LapTime_in_seconds, dtype: float64"
            ],
            "text/html": [
              "<div>\n",
              "<style scoped>\n",
              "    .dataframe tbody tr th:only-of-type {\n",
              "        vertical-align: middle;\n",
              "    }\n",
              "\n",
              "    .dataframe tbody tr th {\n",
              "        vertical-align: top;\n",
              "    }\n",
              "\n",
              "    .dataframe thead th {\n",
              "        text-align: right;\n",
              "    }\n",
              "</style>\n",
              "<table border=\"1\" class=\"dataframe\">\n",
              "  <thead>\n",
              "    <tr style=\"text-align: right;\">\n",
              "      <th></th>\n",
              "      <th></th>\n",
              "      <th>LapTime_in_seconds</th>\n",
              "    </tr>\n",
              "    <tr>\n",
              "      <th>Race</th>\n",
              "      <th>Compound</th>\n",
              "      <th></th>\n",
              "    </tr>\n",
              "  </thead>\n",
              "  <tbody>\n",
              "    <tr>\n",
              "      <th rowspan=\"2\" valign=\"top\">australian</th>\n",
              "      <th>HARD</th>\n",
              "      <td>83.573344</td>\n",
              "    </tr>\n",
              "    <tr>\n",
              "      <th>MEDIUM</th>\n",
              "      <td>84.784814</td>\n",
              "    </tr>\n",
              "    <tr>\n",
              "      <th rowspan=\"4\" valign=\"top\">british</th>\n",
              "      <th>HARD</th>\n",
              "      <td>92.157182</td>\n",
              "    </tr>\n",
              "    <tr>\n",
              "      <th>INTERMEDIATE</th>\n",
              "      <td>104.708365</td>\n",
              "    </tr>\n",
              "    <tr>\n",
              "      <th>MEDIUM</th>\n",
              "      <td>93.950123</td>\n",
              "    </tr>\n",
              "    <tr>\n",
              "      <th>SOFT</th>\n",
              "      <td>93.296033</td>\n",
              "    </tr>\n",
              "    <tr>\n",
              "      <th rowspan=\"3\" valign=\"top\">dutch</th>\n",
              "      <th>HARD</th>\n",
              "      <td>75.842321</td>\n",
              "    </tr>\n",
              "    <tr>\n",
              "      <th>MEDIUM</th>\n",
              "      <td>77.084219</td>\n",
              "    </tr>\n",
              "    <tr>\n",
              "      <th>SOFT</th>\n",
              "      <td>78.341571</td>\n",
              "    </tr>\n",
              "    <tr>\n",
              "      <th rowspan=\"2\" valign=\"top\">sao</th>\n",
              "      <th>INTERMEDIATE</th>\n",
              "      <td>88.673717</td>\n",
              "    </tr>\n",
              "    <tr>\n",
              "      <th>WET</th>\n",
              "      <td>111.111640</td>\n",
              "    </tr>\n",
              "  </tbody>\n",
              "</table>\n",
              "</div><br><label><b>dtype:</b> float64</label>"
            ]
          },
          "metadata": {},
          "execution_count": 20
        }
      ]
    }
  ]
}